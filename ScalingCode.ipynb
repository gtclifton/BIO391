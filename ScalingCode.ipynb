{
 "cells": [
  {
   "cell_type": "markdown",
   "id": "c2aea88d-2249-4e55-9ca2-c6e820fefd1d",
   "metadata": {},
   "source": [
    "# Welcome to your first python notebook (at least in Comparative Biomechanics)! \n",
    "\n",
    "This is the top cell of the notebook. Cells are confined sets of information that can be run together. You can think of them like paragraphs of a coding paper.\n",
    "\n",
    "Cells can used for mark-up (notes) or code. If you click the cell to select it then hit enter (or double-click the cell), you can edit the contents on the cell. This is called \"edit mode\". To exit \"edit mode\", hit the escape key, entering \"command mode.\" With the cell selected in command mode, you can hit the \"m\" button to convert a cell to mark-up. Hitting the \"y\" key makes the cell code. Both mark-up and code cells can be run by pressing \"shift\" + \"enter\". This will either format the text for a mark-up cell or run the code for the code cell. Try converting this cell back and forth from mark-up to code, and running the cell in both conditions. What happened?\n",
    "\n",
    "Good python notebooks have ample mark-up cells to help orient the reader of the code. Often you include a short description of the notebook at the top. \n",
    "Here we'll be learning how to load in data from a .csv file, define variables, perform arithemetic on arrays of data, and produce a graph.\n",
    "\n",
    ".\n",
    "\n",
    ".\n",
    "\n",
    ".\n",
    "\n",
    ".\n",
    "\n",
    ".\n",
    "\n",
    ".\n",
    "\n",
    "."
   ]
  },
  {
   "cell_type": "markdown",
   "id": "a04bb906-d35d-4990-ba9a-fddfca909be3",
   "metadata": {},
   "source": [
    "## Step 1: import your packages\n",
    "There are thousands or pre-coded functions in python available for you to use. They are most often packaged with similar functions into \"packages.\" In order to work with these functions in your notebook, you need to import the package, which loads the functions into your workspace. In this way you can cater your environment to the functions you want to use, which saves time and computer memory"
   ]
  },
  {
   "cell_type": "code",
   "execution_count": null,
   "id": "377ab682-55e4-4fda-a584-5e98fef402b0",
   "metadata": {},
   "outputs": [],
   "source": [
    "# In python code cells, commented lines start with at \"#\" and are passed over when the cell is run. \n",
    "# You can manually comment a line by adding a #, or you can comment multiple lines by selecting them and hitting:\n",
    "#      MAC: \"command\" + \"/\"\n",
    "#      Windows: \"control\" + \"/\"\n",
    "# Repeating those keystrokes will uncomment the lines. \n",
    "# This can be helpful when troubleshooting your code. If you think some lines are working you can comment them out and try to run the cell.\n",
    "\n",
    "\n",
    "\n",
    "# Now, let's import some packages...\n",
    "\n",
    "# the package numpy allows you to work with vectors and arrays of data. \n",
    "# Say you want to multiply all 100 data points by 2, you could just do data*2, instead of running through and multiplying each element in a data list and\n",
    "import numpy as np # when we want to use a numpy function we'll call it by saying np.<function name>\n",
    "\n",
    "# pandas is a package that allows for storing data in a special dataframe storage. \n",
    "# pandas dataframes allow you have to have heading for each array column, among other awesome features.\n",
    "import pandas as pd\n",
    "\n",
    "# the package matplotlib has a lot of functionality similar to matlab. here's we'll be using the plotting functions\n",
    "import matplotlib.pyplot as plt # when we want to use a matplotlib.pyplot function we'll call it by saying plt.<function name>\n",
    "\n",
    "# the package os allows us to work with the operating system. for example, if we want to change a file name, move files, read or write a file\n",
    "import os\n",
    "\n",
    "# the line below controls the \"backend\" of the matplotlib functions. For our purposes, this informs whether the graphs you plot will stay\n",
    "# in the notebook or pop out in a new window.\n",
    "%matplotlib auto\n",
    "\n",
    "# this is how you can print things to your notebook cell output. it's a great way of checking that your code ran correctly\n",
    "print('we have imported all the packages!') \n",
    "\n",
    "\n",
    "# RUN THIS CELL (\"SHIFT\" + \"ENTER\") to import your packages"
   ]
  },
  {
   "cell_type": "markdown",
   "id": "7db5455e-4b5d-40cd-9f60-73696d460e80",
   "metadata": {},
   "source": [
    "## Step 2: import your data\n",
    "We saved your data as a .csv file. Let's import it now"
   ]
  },
  {
   "cell_type": "code",
   "execution_count": null,
   "id": "2f3b71f1-11c0-41f0-9756-d26897963ff7",
   "metadata": {},
   "outputs": [],
   "source": [
    "# below we will specify a variable with the pathway to our data.csv file. Pathways are formatted as: Hardrive:\\Folder\\Folder\\Folder\\File.extension\n",
    "# On Windows, the slashes are backslashes as shown. On Macs, the slashes are forward slashes \"/\". \n",
    "# Things become tricky if any of the folder or file names have spaces. Try to avoid this!\n",
    "\n",
    "\n",
    "# This python notebook is likely in the same folder as your CrabScaling.csv file. \n",
    "# Therefore, instead of typing out the whole long pathway, we can use the \".\" shortcut. \n",
    "# \".\" stands for the current working directory. You can see it by looking in the left panel. \n",
    "# Therefore, you could probably use \".\\CrabScaling.csv\"\n",
    "csv_path = \"type_something_here.csv\"\n",
    "\n",
    "\n",
    "# use pandas package to read in the .csv\n",
    "# this creates a dataframe, which is a way of organizing different types of data. \n",
    "# Say you have a dataset of individual names, ages, and heights. You would need to store both strings, integers, and decimal place (floats).\n",
    "# A dataframe can do this. Plus it has lots of special powers (inserting new data, sorting, applying functions)\n",
    "data = pd.read_csv(csv_path);\n",
    "\n",
    "print('read in the data .csv')"
   ]
  },
  {
   "cell_type": "code",
   "execution_count": null,
   "id": "a131dc17-808d-4ea8-887f-89eabc5910d5",
   "metadata": {},
   "outputs": [],
   "source": [
    "# for accessing the 4th row of the dataframe, you would type data.iloc[3]. \n",
    "# BUT WAIT!!! Why 3 and not 4? In python, the indexing starts at 0. So the first row is the 0th, the 2nd row is the 1st, etc.\n",
    "# This may seem unintuitive at first but is actually much more elegant. I won't go into the reasons here, but you will need to know that indexing starts at 0\n",
    "print(data.iloc[0])\n",
    "# The print output shows all of the column headers and values for the 4th row of data\n"
   ]
  },
  {
   "cell_type": "code",
   "execution_count": null,
   "id": "6bb04500-5c2c-48e9-b8c2-a5289b6887a5",
   "metadata": {},
   "outputs": [],
   "source": [
    "# for accessing the data column named X you would type data.X or data[\"X\"]. Let's print the column for \"Section\":\n",
    "print(data.Section)\n",
    "print(data[\"Section\"])\n",
    "# it will list the row numbers and values. \n",
    "# It also lists what type of data it is (dtype), which could be integers (ints), numbers with decimal places (floats), strings (objects), among others\n"
   ]
  },
  {
   "cell_type": "code",
   "execution_count": null,
   "id": "4ca1d800-4065-4b84-a787-86dfe214760f",
   "metadata": {},
   "outputs": [],
   "source": []
  },
  {
   "cell_type": "code",
   "execution_count": null,
   "id": "79ecb790-fb51-4a9a-bf5e-6843a7a24a8c",
   "metadata": {},
   "outputs": [],
   "source": []
  },
  {
   "cell_type": "markdown",
   "id": "b0b38218-614c-4a24-82d7-b9f238d7752d",
   "metadata": {},
   "source": [
    "## Step 3: work with your data\n",
    "Let's plot what we got, make it pretty, and manipulate it"
   ]
  },
  {
   "cell_type": "code",
   "execution_count": null,
   "id": "b338d53d-17dd-448f-83d8-2f094a357ff9",
   "metadata": {},
   "outputs": [],
   "source": [
    "# We're interested in how crab carapace width and length scaled with body mass. Well, let's plot it to find out!\n",
    "\n",
    "# pandas dataframes work nicely with matplotlib to make plotting commands very intuitive.\n",
    "plt.close('all') # when you plot something, a plot window will pop open until you close it. let's close any/all open plot windows.\n",
    "\n",
    "# plot a scatter plot of width vs. mass\n",
    "ax = data.plot(kind='scatter',x='Mass (g)',y='Width (mm)', color='black',label = \"Width\")\n",
    "\n",
    "# plot a scatter plot of length vs. width but use the same window/axes as defined when we plotted width\n",
    "data.plot(kind='scatter',x='Mass (g)',y='Length (mm)', color='green', ax = ax, label = \"Length\")\n",
    "\n",
    "# since we're plotting length and width on the same axes, we need to label the y-axis as just millimeters\n",
    "plt.ylabel('millimeters') \n",
    "\n",
    "# it's best practice to include 0 for your x- and y-axes\n",
    "ax.set_ylim(ymin=0)\n",
    "ax.set_xlim(xmin=0)\n",
    "\n",
    "# don't forget a title!\n",
    "plt.title(\"type your title here\")\n",
    "\n",
    "plt.show() # show the plot"
   ]
  },
  {
   "cell_type": "code",
   "execution_count": null,
   "id": "d2001aac-ec31-456b-90db-186e998c2fd9",
   "metadata": {},
   "outputs": [],
   "source": [
    "# Say we wanted to plot a linear regression of width vs. mass. \n",
    "# We can calculate the best fit line for data using the polyfit function in numpy. \n",
    "# It reduces the distance of the datapoints from the line, outputing a best fit line with the number of degrees specified.\n",
    "# degree = 1 --> y = a*x + b = linear regression\n",
    "# degree = 2 --> y = a*x^2 + b*x + c\n",
    "\n",
    "d = np.polyfit( data[\"Mass (g)\"], data[\"Width (mm)\"], 1) # This finds the best fit of width vs. mass with degree 1\n",
    "f = np.poly1d(d) # the function f now takes an input x and output y using the coefficients found and stored in d\n",
    "print(d)\n",
    "print (f)\n",
    "\n",
    "# Let's now plot the line on our plot using he matplotlib function \"plot\"\n",
    "# We'll input the \n",
    "    # x-values, \n",
    "    # y-values (generated using the f function of our x-value), and \n",
    "    # how we'd like to plot: '-' = with lines connecting points, 'k' = black\n",
    "plt.plot(data[\"Mass (g)\"], f(data[\"Mass (g)\"]), '-k')\n",
    "# Not sure what I'm doing here? Read this: https://matplotlib.org/stable/tutorials/introductory/pyplot.html\n",
    "\n",
    "# Let's also put the linear regression info on the plot, so we know the slope and intercept values\n",
    "plt.text(1, np.median(data[\"Width (mm)\"]), '%0.2f * x + %0.2f'%(d[0],d[1]));\n",
    "# Not sure what I'm doing here? Watch this: https://realpython.com/lessons/formatting/"
   ]
  },
  {
   "cell_type": "markdown",
   "id": "00f2a2e4-dafe-4208-b346-b64d32fd0f2f",
   "metadata": {},
   "source": [
    ".\n",
    "\n",
    ".\n",
    "\n",
    ".\n",
    "\n",
    "## I've walked you though the basics, now it's your turn to work through some things on your own! \n",
    "## If (when) you get stuck, google your question -- it's what all coders do! The website stackoverflow is very helpful.\n",
    ".\n",
    "\n",
    ".\n",
    "\n",
    ".\n"
   ]
  },
  {
   "cell_type": "markdown",
   "id": "0741bceb-a001-4aa1-b67c-3c26621aa744",
   "metadata": {},
   "source": [
    "#### Let's plot all data that you did not collect in black, and your group's data in red.\n",
    "\n",
    "First, we need to find just your group's data and the class's data.\n",
    "\n",
    "You can create a subset of a dataframe based on the values in a given column using: data[data.Section==\"A\"].\n",
    "This would create a dataframe of just data collected in the A section of BIO391. \n",
    "\n",
    "The square brackets are used to show that you are indexing (pulling info) from a variable, in this case the datafame \"data\". Remember from above, that data.Section pulls out all the values in the \"Section\" column.\n",
    "\n",
    "The \"==\" is an example of a conditional statement. We only want rows of data where the \"Section\" value is the same as \"A\". \n",
    "Other conditionals include \">\" (greater than), \"<\" (lesser than), \">=\" (greater than or equal to), \"<=\" (lesser than or equal to), and \"!=\" (not equal to).\n",
    "\n",
    "You can index a subset of a dataframe based on more than one conditional statement using the logic \"&\" (and) or \"|\" (or) operands. \n",
    "Say you wanted all rows with values greater than 2 but less than 7. This is the same as saying all values greater than 2 AND less than 7, and could be coded as (data.value > 2) & (data.value < 7). Say you wanted all values greater than 2, but not equal to 5: (data.value > 2) & (data.value != 5). \n",
    "\n",
    "This also works for conditions in different columns. For example, rows when column value1 values are greater than 2 or column value2 values are equal to 3: (data.value1 > 2) or (data.value2 == 3)\n"
   ]
  },
  {
   "cell_type": "code",
   "execution_count": null,
   "id": "6f89e8a3-7f9e-4a4a-a532-836f9a11cb92",
   "metadata": {},
   "outputs": [],
   "source": [
    "# Based on the above info, create new subsets of the data dataframe.\n",
    "\n",
    "your_section = \"\" # What section number are you in?\n",
    "your_group = \"\" # What group number were you in?\n",
    "\n",
    "group_data = \"type your code here\" # data from just your group\n",
    "class_data = \"type your code here\" # data from the class, not including your group's data"
   ]
  },
  {
   "cell_type": "code",
   "execution_count": null,
   "id": "1ef72a31-5c5c-40f1-9b91-666e6aeb2acd",
   "metadata": {},
   "outputs": [],
   "source": [
    "# Now, based on the example plotting code above, plot the height vs. mass and width vs. mass data for the class (in black) and your group (in a color of your choosing)\n",
    "\n",
    "plt.close('all') \n",
    "\n",
    "\n",
    "# PUT YOUR CODE HERE\n",
    "\n",
    "\n",
    "\n",
    "\n",
    "\n",
    "\n",
    "\n",
    "\n",
    "\n",
    "\n",
    "\n",
    "\n",
    "plt.show() # show the plot\n",
    "\n",
    "# make sure that your graph has correct axes, labels, and a title. You'll be submitting a photo of your graph for your Synchronous Assignment"
   ]
  },
  {
   "cell_type": "markdown",
   "id": "6defa19f-ee3d-4ec3-8f64-28a66011144a",
   "metadata": {},
   "source": [
    "#### Let's find the scaling relationship between height and width vs. mass\n",
    "\n",
    "Remember that scaling relationships are exponential: y = a * x^b with scaling constant b\n",
    "\n",
    "To find the scaling constant we take the log of each side of the equation. \n",
    "\n",
    "The log of a number is equivalent to finding the exponent needed to get that number from 10 or another \"base\".\n",
    "Sometimes pi (3.14...) is used as the base when taking the \"natural log\" or \"ln\".\n",
    "\n",
    "For the base of 10, \n",
    "\n",
    "    10^0 = 1 --> log(1) = 0\n",
    "    10^1 = 10 --> log(10) = 1\n",
    "    10^2 = 100 --> log(100) = 2\n",
    "    etc.\n",
    "    \n",
    "\n",
    "Log functions have special properties, including \n",
    "\n",
    "    log(a*b) = log(a) + log(b) \n",
    "    log(a/b) = log(a) - log(b)\n",
    "    log(a^b) = b*log(a)\n",
    "\n",
    "Applying this to our equation above y = a * x^b:\n",
    "\n",
    "    log(y) = log(a) + log(x^b)\n",
    "    log(y) = log(a) + b*log(x)\n",
    "    \n",
    "Therefore, to find the scaling coefficient, b, we can take the log of both x and y then find the linear regression of log(y) vs. log(x). b will be the slope of the linear regression."
   ]
  },
  {
   "cell_type": "code",
   "execution_count": null,
   "id": "51dea317-90bf-41f6-a98c-a202c7cd8e07",
   "metadata": {},
   "outputs": [],
   "source": [
    "# First let's create new columns in our dataframe for the log values\n",
    "\n",
    "data[\"log(Mass)\"] = [] # google how to do this!\n",
    "data[\"log(Width)\"] = []\n",
    "data[\"log(Length)\"] = []\n"
   ]
  },
  {
   "cell_type": "code",
   "execution_count": null,
   "id": "a4f90706-546c-48ba-9531-5f68735d081b",
   "metadata": {},
   "outputs": [],
   "source": [
    "# Now plot log(Width) and log(Length) vs. log(Mass)\n",
    "\n",
    "\n",
    "\n",
    "\n",
    "\n"
   ]
  },
  {
   "cell_type": "code",
   "execution_count": null,
   "id": "f9920155-33da-410b-9067-aa6b2af5fd75",
   "metadata": {},
   "outputs": [],
   "source": [
    "# Find the linear regression for the above plots. Add them to the plots\n",
    "\n",
    "\n",
    "\n",
    "\n",
    "\n",
    "\n",
    "# make sure that your graph has correct axes, labels, and an informative/specific title. \n",
    "# There should be at least one color on your graph--have fun, but be practical (yellow is hard to see, data of all one type should be the same color, etc.)\n",
    "# The linear regressions should be labeled on the graph.\n",
    "# You'll be submitting a photo of your graph for your Synchronous Assignment"
   ]
  },
  {
   "cell_type": "markdown",
   "id": "837547cd-9e7a-498e-8ba5-5259abb26d21",
   "metadata": {},
   "source": [
    "## If you are a BME student, complete the section below"
   ]
  },
  {
   "cell_type": "code",
   "execution_count": null,
   "id": "ef3cd225-8d65-4438-ae88-ea9cbe9e4b49",
   "metadata": {},
   "outputs": [],
   "source": [
    "# Make two graphs, one for Width and the other for Length, plotting and finding the scaling coefficients for male and female crabs separately.\n",
    "# In other words, males and females should be plot on the same graph with different colors or marker types (dots: \".\", circles: \"o\", stars: \"*\", etc.)\n",
    "\n",
    "\n",
    "\n",
    "\n",
    "\n",
    "\n",
    "\n",
    "\n",
    "\n",
    "# make sure that your graphs have correct axes, labels, and an informative/specific title. \n",
    "# There should be at least one customization--a color or marker type\n",
    "# The linear regressions should be labeled on the graph.\n",
    "# You'll be submitting photos of your graphs for your Synchronous Assignment"
   ]
  }
 ],
 "metadata": {
  "kernelspec": {
   "display_name": "Python 3",
   "language": "python",
   "name": "python3"
  },
  "language_info": {
   "codemirror_mode": {
    "name": "ipython",
    "version": 3
   },
   "file_extension": ".py",
   "mimetype": "text/x-python",
   "name": "python",
   "nbconvert_exporter": "python",
   "pygments_lexer": "ipython3",
   "version": "3.8.8"
  }
 },
 "nbformat": 4,
 "nbformat_minor": 5
}
